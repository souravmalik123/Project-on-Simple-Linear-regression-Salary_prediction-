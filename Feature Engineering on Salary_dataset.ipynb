{
 "cells": [
  {
   "cell_type": "markdown",
   "id": "5378a289",
   "metadata": {},
   "source": [
    "Import The Dataset"
   ]
  },
  {
   "cell_type": "code",
   "execution_count": null,
   "id": "0800341d",
   "metadata": {},
   "outputs": [],
   "source": [
    "import pandas as pd\n",
    "from sklearn.model_selection import train_test_split\n",
    "from sklearn.preprocessing import StandardScaler\n",
    "from sklearn.linear_model import LinearRegression\n",
    "from sklearn.metrics import r2_score"
   ]
  },
  {
   "cell_type": "markdown",
   "id": "aae5d564",
   "metadata": {},
   "source": [
    "Load The Dataset"
   ]
  },
  {
   "cell_type": "code",
   "execution_count": null,
   "id": "a5c113de",
   "metadata": {},
   "outputs": [],
   "source": [
    "data = pd.read_csv(\"Salary_Data.csv\")\n",
    "print(data.head())"
   ]
  },
  {
   "cell_type": "markdown",
   "id": "90936e97",
   "metadata": {},
   "source": [
    "Some information about the dataset"
   ]
  },
  {
   "cell_type": "code",
   "execution_count": null,
   "id": "1713d238",
   "metadata": {},
   "outputs": [],
   "source": [
    "data.info()"
   ]
  },
  {
   "cell_type": "code",
   "execution_count": null,
   "id": "5382c16e",
   "metadata": {},
   "outputs": [],
   "source": [
    "data.columns"
   ]
  },
  {
   "cell_type": "markdown",
   "id": "76f4fdfa",
   "metadata": {},
   "source": [
    "Some statistical information about the dataset"
   ]
  },
  {
   "cell_type": "code",
   "execution_count": null,
   "id": "5c1861d4",
   "metadata": {},
   "outputs": [],
   "source": [
    "data.describe()"
   ]
  },
  {
   "cell_type": "markdown",
   "id": "e79efac7",
   "metadata": {},
   "source": [
    "Check the null values in the data set\n",
    "\n",
    "No null value in the dataset"
   ]
  },
  {
   "cell_type": "code",
   "execution_count": null,
   "id": "6d368c25",
   "metadata": {},
   "outputs": [],
   "source": [
    "data.isnull().sum()"
   ]
  },
  {
   "cell_type": "markdown",
   "id": "d2cd5944",
   "metadata": {},
   "source": [
    "Split the dataset into feature and Target"
   ]
  },
  {
   "cell_type": "code",
   "execution_count": null,
   "id": "a716b5d2",
   "metadata": {},
   "outputs": [],
   "source": [
    "x = data[\"YearsExperience\"].values.reshape(-1,1)\n",
    "y = data[\"Salary\"].values.reshape(-1,1)"
   ]
  },
  {
   "cell_type": "code",
   "execution_count": null,
   "id": "e74df6ab",
   "metadata": {},
   "outputs": [],
   "source": [
    "print(x)"
   ]
  },
  {
   "cell_type": "code",
   "execution_count": null,
   "id": "1912903f",
   "metadata": {},
   "outputs": [],
   "source": [
    "print(y)"
   ]
  },
  {
   "cell_type": "markdown",
   "id": "e8ea9d17",
   "metadata": {},
   "source": [
    "standerdized the data"
   ]
  },
  {
   "cell_type": "code",
   "execution_count": null,
   "id": "3b5ad071",
   "metadata": {},
   "outputs": [],
   "source": [
    "scaler = StandardScaler()"
   ]
  },
  {
   "cell_type": "code",
   "execution_count": null,
   "id": "e74495f9",
   "metadata": {},
   "outputs": [],
   "source": [
    "y_standerdized = scaler.fit_transform(y)"
   ]
  },
  {
   "cell_type": "code",
   "execution_count": null,
   "id": "b33377bc",
   "metadata": {},
   "outputs": [],
   "source": [
    "print(y_standerdized)"
   ]
  },
  {
   "cell_type": "code",
   "execution_count": null,
   "id": "d9e144e8",
   "metadata": {},
   "outputs": [],
   "source": [
    "print(x_standerdized.std())"
   ]
  },
  {
   "cell_type": "code",
   "execution_count": null,
   "id": "a3286a46",
   "metadata": {},
   "outputs": [],
   "source": [
    "model = LinearRegression()\n",
    "print(\"Model is loaded\")"
   ]
  },
  {
   "cell_type": "code",
   "execution_count": null,
   "id": "bc41d400",
   "metadata": {},
   "outputs": [],
   "source": [
    "model_train = model.fit(x,y)\n",
    "print(\"Model is Train\")"
   ]
  },
  {
   "cell_type": "code",
   "execution_count": null,
   "id": "a1e6e633",
   "metadata": {},
   "outputs": [],
   "source": [
    "pred = model_train.predict(x)\n",
    "print(pred)"
   ]
  },
  {
   "cell_type": "code",
   "execution_count": null,
   "id": "a6144737",
   "metadata": {},
   "outputs": [],
   "source": [
    "model_acc = r2_score(pred,y)\n",
    "print(model_acc)"
   ]
  },
  {
   "cell_type": "code",
   "execution_count": null,
   "id": "ffab2bed",
   "metadata": {},
   "outputs": [],
   "source": []
  },
  {
   "cell_type": "code",
   "execution_count": null,
   "id": "c2e7d14d",
   "metadata": {},
   "outputs": [],
   "source": []
  },
  {
   "cell_type": "code",
   "execution_count": null,
   "id": "6a06ef89",
   "metadata": {},
   "outputs": [],
   "source": []
  },
  {
   "cell_type": "code",
   "execution_count": null,
   "id": "d2775f81",
   "metadata": {},
   "outputs": [],
   "source": []
  }
 ],
 "metadata": {
  "kernelspec": {
   "display_name": "Python 3 (ipykernel)",
   "language": "python",
   "name": "python3"
  },
  "language_info": {
   "codemirror_mode": {
    "name": "ipython",
    "version": 3
   },
   "file_extension": ".py",
   "mimetype": "text/x-python",
   "name": "python",
   "nbconvert_exporter": "python",
   "pygments_lexer": "ipython3",
   "version": "3.11.4"
  }
 },
 "nbformat": 4,
 "nbformat_minor": 5
}
